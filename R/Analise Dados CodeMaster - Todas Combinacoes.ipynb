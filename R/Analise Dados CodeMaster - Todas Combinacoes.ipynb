{
 "cells": [
  {
   "cell_type": "markdown",
   "metadata": {},
   "source": [
    "# Cronbach Alpha - Todas as Compinações"
   ]
  },
  {
   "cell_type": "markdown",
   "metadata": {},
   "source": [
    "## Passo 01: Instalar Packages:"
   ]
  },
  {
   "cell_type": "code",
   "execution_count": 31,
   "metadata": {},
   "outputs": [],
   "source": [
    "library(psych)\n",
    "library(readxl)"
   ]
  },
  {
   "cell_type": "markdown",
   "metadata": {},
   "source": [
    "## Passo 02: Carregar os dados a serem analisados:\n",
    "Consiste em primeiramente baixar o arquivo contendo os dados a serem analisados do GitHub e depois carregar os dados para um dataframe"
   ]
  },
  {
   "cell_type": "markdown",
   "metadata": {},
   "source": [
    "### Baixar arquivo excel com os dados"
   ]
  },
  {
   "cell_type": "code",
   "execution_count": 55,
   "metadata": {},
   "outputs": [],
   "source": [
    "url <- \"https://github.com/JeanHauck/GQS/raw/master/R/Dados/codemaster_com_NA.xlsx\"\n",
    "destfile <- paste(getwd(), \"codemaster_com_NA.xlsx\", sep=\"/\")\n",
    "download.file(url, destfile, mode='wb')"
   ]
  },
  {
   "cell_type": "markdown",
   "metadata": {},
   "source": [
    "### Carregar dos dados baixados\n",
    "O parâmetro `na = \"NA\"` indica que as celulas contendo valores 'NA' serão considerados como *missing data*"
   ]
  },
  {
   "cell_type": "code",
   "execution_count": 47,
   "metadata": {},
   "outputs": [],
   "source": [
    "df <- read_excel(destfile, na = \"NA\")"
   ]
  },
  {
   "cell_type": "markdown",
   "metadata": {},
   "source": [
    "## Passo 03: Rodar análise coeficiente Cronbach Alpha para todas as combinações possíveis de colunas\n",
    "\n",
    "Consiste em primeiro carregar a função que percorre todas as colunas combinando-as em grupos de no mínimo 4 e depois mandar executar a função:\n"
   ]
  },
  {
   "cell_type": "markdown",
   "metadata": {},
   "source": [
    "## Carregar a função alpha_comp"
   ]
  },
  {
   "cell_type": "code",
   "execution_count": 10,
   "metadata": {},
   "outputs": [],
   "source": [
    "alpha_comp <- function(){\n",
    "\talphas <- array(dim=c(1000000,4))\n",
    "\tmax_alpha = -100\n",
    "\tmax_std_alpha = -100\n",
    "\tcolnames_max_alpha = array(dim=c(22))\n",
    "\tnum_alphas = 0\n",
    "\tfor (c1 in 1:22) {\n",
    "\t\tprint(paste(\">>>>>>>>>>>>>>> COLUNA FIXA: \",c1))\n",
    "\t\tdf_wc <- df\n",
    "\t\tdf_col_alvo <- df_wc[,c1:c1]\n",
    "\t\tdf_wc[c1] <- NULL\n",
    "\t\tfor(ini_jan in 1:21){\n",
    "\t\t\tprint(paste(\">>>>>>>> INICIO JANELA: \",ini_jan))\n",
    "\t\t\tfor(tam in 2:20){\n",
    "\t\t\t\tdf_alpha <- df_col_alvo\n",
    "\t\t\t\tif((ini_jan+tam) <= length(df_wc)){\n",
    "\t\t\t\t\tfor (col in ini_jan:(ini_jan+tam)){\n",
    "\t\t\t\t\t\tdf_alpha <- cbind(df_alpha, df_wc[,col:col])\n",
    "\t\t\t\t\t}\n",
    "\t\t\t\t\talpha_ <- suppressWarnings(alpha(df_alpha, check.keys=TRUE))\n",
    "\t\t\t\t\tif ((alpha_$total$std.alpha > max_std_alpha) || (alpha_$total$raw_alpha > max_alpha) || (alpha_$total$raw_alpha > .6) ){\n",
    "\t\t\t\t\t\tnum_alphas = (num_alphas+1)\n",
    "\t\t\t\t\t\tprint(\"-\")\n",
    "\t\t\t\t\t\tprint(paste(\"!!!!!!!!!! NOVO MAX ALPHA: \", alpha_$total$raw_alpha))\n",
    "\t\t\t\t\t\tprint(colnames(df_alpha))\n",
    "\t\t\t\t\t\tif (alpha_$total$std.alpha > max_std_alpha){\n",
    "\t\t\t\t\t\t\tmax_std_alpha <- alpha_$total$std.alpha\n",
    "\t\t\t\t\t\t}\n",
    "\t\t\t\t\t\tif (alpha_$total$raw_alpha > max_alpha){\n",
    "\t\t\t\t\t\t\tmax_alpha <- alpha_$total$raw_alpha\n",
    "\t\t\t\t\t\t}\n",
    "\t\t\t\t\t\tcolnames_max_alpha <- colnames(df_alpha)\n",
    "\t\t\t\t\t\talphas[num_alphas,1] <- alpha_$total$raw_alpha\n",
    "\t\t\t\t\t\talphas[num_alphas,2] <- alpha_$total$std.alpha\n",
    "\t\t\t\t\t\talphas[num_alphas,3] <- alpha_$total$G6\n",
    "\t\t\t\t\t\talphas[num_alphas,4] <- paste(colnames(df_alpha),collapse=\" \")\n",
    "\t\t\t\t\t}\n",
    "\t\t\t\t}\n",
    "\t\t\t}\n",
    "\t\t}\n",
    "\t}\n",
    "\treturn(alphas)\n",
    "}"
   ]
  },
  {
   "cell_type": "markdown",
   "metadata": {},
   "source": [
    "### Executar a função e guardar o resultado em `alphas`\n",
    "\n",
    "<font color=\"red\"><b>CUIDADO</b>: Esse processo poder demorar muito tempo processando</font>"
   ]
  },
  {
   "cell_type": "code",
   "execution_count": null,
   "metadata": {},
   "outputs": [],
   "source": [
    "alphas <- alpha_comp()"
   ]
  },
  {
   "cell_type": "markdown",
   "metadata": {},
   "source": [
    "## Ao final remover o arquivo baixado"
   ]
  },
  {
   "cell_type": "code",
   "execution_count": 54,
   "metadata": {},
   "outputs": [
    {
     "data": {
      "text/html": [
       "TRUE"
      ],
      "text/latex": [
       "TRUE"
      ],
      "text/markdown": [
       "TRUE"
      ],
      "text/plain": [
       "[1] TRUE"
      ]
     },
     "metadata": {},
     "output_type": "display_data"
    }
   ],
   "source": [
    "file.remove(destfile)"
   ]
  }
 ],
 "metadata": {
  "kernelspec": {
   "display_name": "R",
   "language": "R",
   "name": "ir"
  },
  "language_info": {
   "codemirror_mode": "r",
   "file_extension": ".r",
   "mimetype": "text/x-r-source",
   "name": "R",
   "pygments_lexer": "r",
   "version": "3.4.4"
  }
 },
 "nbformat": 4,
 "nbformat_minor": 2
}
