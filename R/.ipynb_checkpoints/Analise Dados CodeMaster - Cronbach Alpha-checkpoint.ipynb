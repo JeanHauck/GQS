{
 "cells": [
  {
   "cell_type": "markdown",
   "metadata": {},
   "source": [
    "# Rodar Análise de Dados Codemaster"
   ]
  },
  {
   "cell_type": "markdown",
   "metadata": {},
   "source": [
    "## Passo 01: Instalar Packages:"
   ]
  },
  {
   "cell_type": "code",
   "execution_count": 3,
   "metadata": {},
   "outputs": [],
   "source": [
    "library(psych)\n",
    "library(readxl)"
   ]
  },
  {
   "cell_type": "markdown",
   "metadata": {},
   "source": [
    "## Passo 02: Carregar os dados a serem analisados:\n",
    "O parâmetro `na = \"NA\"` indica que as celulas contendo valores 'NA' serão considerados como *missing data*"
   ]
  },
  {
   "cell_type": "code",
   "execution_count": 6,
   "metadata": {},
   "outputs": [],
   "source": [
    "df <- read_excel(\"C:/Temp/codemaster_com_NA.xlsx\", na = \"NA\")"
   ]
  },
  {
   "cell_type": "markdown",
   "metadata": {},
   "source": [
    "## Passo 03: Rodar análise coeficiente Crombach Alpha"
   ]
  },
  {
   "cell_type": "code",
   "execution_count": 7,
   "metadata": {},
   "outputs": [
    {
     "name": "stderr",
     "output_type": "stream",
     "text": [
      "Warning message in alpha(df, check.keys = TRUE):\n",
      "\"Some items were negatively correlated with total scale and were automatically reversed.\n",
      " This is indicated by a negative sign for the variable name.\""
     ]
    },
    {
     "data": {
      "text/plain": [
       "\n",
       "Reliability analysis   \n",
       "Call: alpha(x = df, check.keys = TRUE)\n",
       "\n",
       "  raw_alpha std.alpha G6(smc) average_r  S/N    ase mean   sd median_r\n",
       "      0.46      0.47    0.52     0.039 0.88 0.0025  2.3 0.36    0.024\n",
       "\n",
       " lower alpha upper     95% confidence boundaries\n",
       "0.46 0.46 0.47 \n",
       "\n",
       " Reliability if an item is dropped:\n",
       "                                   raw_alpha std.alpha G6(smc) average_r  S/N\n",
       "dimensionamentoResponsivo-              0.45      0.45    0.51     0.038 0.82\n",
       "familiaFonte                            0.46      0.46    0.52     0.039 0.86\n",
       "tamanhoFonteBotoes-                     0.46      0.47    0.52     0.041 0.89\n",
       "capitalizacaoSentenca                   0.45      0.45    0.50     0.038 0.83\n",
       "caixaAltaBotao-                         0.45      0.45    0.51     0.038 0.83\n",
       "tamanhoFonteComp                        0.44      0.44    0.50     0.036 0.79\n",
       "textoDefault-                           0.46      0.47    0.52     0.040 0.88\n",
       "doisPontosLegenda-                      0.47      0.48    0.53     0.043 0.93\n",
       "pontoFinalSentenca                      0.45      0.45    0.51     0.038 0.83\n",
       "telasComOrganizadores-                  0.46      0.46    0.51     0.039 0.85\n",
       "dicaPreenchidaEDiferenteDefault-        0.47      0.46    0.51     0.039 0.86\n",
       "sistemaDeCores                          0.42      0.44    0.49     0.036 0.78\n",
       "contrasteEntreTextoFundoNaoNegrito      0.40      0.43    0.48     0.034 0.75\n",
       "iconesMD-                               0.46      0.47    0.52     0.041 0.89\n",
       "tamanhoFonteSenhaCaixaTextoPintura      0.45      0.46    0.51     0.038 0.84\n",
       "contrasteEntreTextoFundoNegrito         0.43      0.44    0.50     0.036 0.79\n",
       "pixelizacao                             0.46      0.47    0.51     0.041 0.89\n",
       "imagensEmBotoes                         0.44      0.45    0.49     0.037 0.81\n",
       "componenteImagem                        0.45      0.46    0.51     0.039 0.85\n",
       "imagensDeFundo-                         0.47      0.48    0.53     0.042 0.92\n",
       "alturaComponenteAlvoToque-              0.46      0.45    0.49     0.038 0.83\n",
       "larguraComponenteAlvoToque-             0.46      0.45    0.49     0.038 0.82\n",
       "                                   alpha se  var.r med.r\n",
       "dimensionamentoResponsivo-           0.0026 0.0069 0.022\n",
       "familiaFonte                         0.0026 0.0069 0.022\n",
       "tamanhoFonteBotoes-                  0.0026 0.0069 0.025\n",
       "capitalizacaoSentenca                0.0026 0.0066 0.022\n",
       "caixaAltaBotao-                      0.0026 0.0069 0.022\n",
       "tamanhoFonteComp                     0.0027 0.0067 0.022\n",
       "textoDefault-                        0.0026 0.0068 0.025\n",
       "doisPontosLegenda-                   0.0025 0.0067 0.026\n",
       "pontoFinalSentenca                   0.0026 0.0068 0.022\n",
       "telasComOrganizadores-               0.0026 0.0063 0.023\n",
       "dicaPreenchidaEDiferenteDefault-     0.0025 0.0066 0.024\n",
       "sistemaDeCores                       0.0027 0.0059 0.023\n",
       "contrasteEntreTextoFundoNaoNegrito   0.0028 0.0059 0.022\n",
       "iconesMD-                            0.0026 0.0068 0.024\n",
       "tamanhoFonteSenhaCaixaTextoPintura   0.0026 0.0067 0.022\n",
       "contrasteEntreTextoFundoNegrito      0.0027 0.0064 0.022\n",
       "pixelizacao                          0.0025 0.0057 0.026\n",
       "imagensEmBotoes                      0.0026 0.0053 0.023\n",
       "componenteImagem                     0.0026 0.0068 0.025\n",
       "imagensDeFundo-                      0.0025 0.0067 0.025\n",
       "alturaComponenteAlvoToque-           0.0026 0.0050 0.026\n",
       "larguraComponenteAlvoToque-          0.0026 0.0051 0.025\n",
       "\n",
       " Item statistics \n",
       "                                       n raw.r std.r  r.cor  r.drop mean   sd\n",
       "dimensionamentoResponsivo-         88861 0.220  0.31 0.2266  0.1521 2.85 0.64\n",
       "familiaFonte                       78549 0.200  0.27 0.1543  0.1040 2.86 0.56\n",
       "tamanhoFonteBotoes-                67514 0.137  0.22 0.0877  0.0579 2.95 0.35\n",
       "capitalizacaoSentenca              88402 0.505  0.30 0.2268  0.1427 1.38 1.14\n",
       "caixaAltaBotao-                    67514 0.364  0.31 0.2153  0.1541 2.45 1.06\n",
       "tamanhoFonteComp                   57829 0.443  0.36 0.3014  0.1920 2.14 1.15\n",
       "textoDefault-                      77735 0.249  0.24 0.1187  0.0943 0.23 0.66\n",
       "doisPontosLegenda-                 53747 0.196  0.16 0.0057 -0.0128 0.40 0.79\n",
       "pontoFinalSentenca                 88589 0.249  0.31 0.2272  0.1744 2.86 0.37\n",
       "telasComOrganizadores-             88861 0.496  0.27 0.1896  0.1238 1.44 1.41\n",
       "dicaPreenchidaEDiferenteDefault-   28294 0.380  0.26 0.1581  0.0762 2.05 1.33\n",
       "sistemaDeCores                     88861 0.391  0.38 0.3523  0.2967 2.61 0.87\n",
       "contrasteEntreTextoFundoNaoNegrito 70729 0.514  0.43 0.4228  0.3044 2.05 1.33\n",
       "iconesMD-                          17953 0.092  0.22 0.0873  0.0614 2.96 0.32\n",
       "tamanhoFonteSenhaCaixaTextoPintura 52912 0.241  0.30 0.2064  0.1206 2.80 0.69\n",
       "contrasteEntreTextoFundoNegrito    31994 0.441  0.36 0.3055  0.2208 2.23 1.24\n",
       "pixelizacao                        45940 0.285  0.22 0.1443  0.1065 1.99 1.26\n",
       "imagensEmBotoes                    22188 0.450  0.34 0.3248  0.1810 1.38 1.39\n",
       "componenteImagem                   23597 0.316  0.27 0.1704  0.1255 2.41 1.11\n",
       "imagensDeFundo-                    20321 0.141  0.18 0.0341  0.0089 2.52 0.69\n",
       "alturaComponenteAlvoToque-         85863 0.160  0.31 0.2890  0.1143 2.95 0.37\n",
       "larguraComponenteAlvoToque-        85863 0.172  0.32 0.3013  0.1208 2.95 0.40\n",
       "\n",
       "Non missing response frequency for each item\n",
       "                                      0    1    2    3 miss\n",
       "dimensionamentoResponsivo          0.95 0.00 0.00 0.05 0.00\n",
       "familiaFonte                       0.03 0.01 0.03 0.93 0.12\n",
       "tamanhoFonteBotoes                 0.97 0.01 0.01 0.01 0.24\n",
       "capitalizacaoSentenca              0.28 0.32 0.14 0.26 0.01\n",
       "caixaAltaBotao                     0.76 0.05 0.06 0.13 0.24\n",
       "tamanhoFonteComp                   0.17 0.10 0.17 0.57 0.35\n",
       "textoDefault                       0.04 0.02 0.08 0.86 0.13\n",
       "doisPontosLegenda                  0.04 0.07 0.13 0.76 0.40\n",
       "pontoFinalSentenca                 0.00 0.01 0.12 0.87 0.00\n",
       "telasComOrganizadores              0.41 0.08 0.05 0.46 0.00\n",
       "dicaPreenchidaEDiferenteDefault    0.64 0.05 0.03 0.28 0.68\n",
       "sistemaDeCores                     0.07 0.05 0.09 0.80 0.00\n",
       "contrasteEntreTextoFundoNaoNegrito 0.29 0.00 0.09 0.63 0.20\n",
       "iconesMD                           0.98 0.01 0.00 0.01 0.80\n",
       "tamanhoFonteSenhaCaixaTextoPintura 0.05 0.02 0.03 0.91 0.40\n",
       "contrasteEntreTextoFundoNegrito    0.23 0.00 0.08 0.69 0.64\n",
       "pixelizacao                        0.24 0.08 0.13 0.55 0.48\n",
       "imagensEmBotoes                    0.46 0.08 0.08 0.38 0.75\n",
       "componenteImagem                   0.15 0.04 0.06 0.75 0.73\n",
       "imagensDeFundo                     0.61 0.34 0.03 0.03 0.77\n",
       "alturaComponenteAlvoToque          0.98 0.00 0.00 0.01 0.03\n",
       "larguraComponenteAlvoToque         0.98 0.00 0.00 0.02 0.03"
      ]
     },
     "metadata": {},
     "output_type": "display_data"
    }
   ],
   "source": [
    "alpha(df, check.keys=TRUE)"
   ]
  }
 ],
 "metadata": {
  "kernelspec": {
   "display_name": "R",
   "language": "R",
   "name": "ir"
  },
  "language_info": {
   "codemirror_mode": "r",
   "file_extension": ".r",
   "mimetype": "text/x-r-source",
   "name": "R",
   "pygments_lexer": "r",
   "version": "3.4.4"
  }
 },
 "nbformat": 4,
 "nbformat_minor": 2
}
